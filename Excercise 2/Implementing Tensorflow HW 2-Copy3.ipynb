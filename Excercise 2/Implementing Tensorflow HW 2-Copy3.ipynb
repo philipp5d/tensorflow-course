{
 "cells": [
  {
   "cell_type": "markdown",
   "metadata": {},
   "source": [
    "### Homework Sheet 2 of group number 19\n",
    "Members: Jkraasch , Tpries and Phummel"
   ]
  },
  {
   "cell_type": "code",
   "execution_count": 2,
   "metadata": {
    "scrolled": true
   },
   "outputs": [
    {
     "name": "stdout",
     "output_type": "stream",
     "text": [
      "Extracting MNIST_data/train-images-idx3-ubyte.gz\n",
      "Extracting MNIST_data/train-labels-idx1-ubyte.gz\n",
      "Extracting MNIST_data/t10k-images-idx3-ubyte.gz\n",
      "Extracting MNIST_data/t10k-labels-idx1-ubyte.gz\n"
     ]
    }
   ],
   "source": [
    "import tensorflow as tf #check\n",
    "\n",
    "#using googles given import method of the tutorial\n",
    "from tensorflow.examples.tutorials.mnist import input_data\n",
    "mnist = input_data.read_data_sets(\"MNIST_data/\", one_hot=True)"
   ]
  },
  {
   "cell_type": "code",
   "execution_count": 10,
   "metadata": {
    "collapsed": true
   },
   "outputs": [],
   "source": [
    "import matplotlib.pyplot as plt\n",
    "%matplotlib inline\n",
    "import numpy as np"
   ]
  },
  {
   "cell_type": "code",
   "execution_count": 27,
   "metadata": {},
   "outputs": [
    {
     "data": {
      "text/plain": [
       "<matplotlib.image.AxesImage at 0x7f9bec69f518>"
      ]
     },
     "execution_count": 27,
     "metadata": {},
     "output_type": "execute_result"
    },
    {
     "data": {
      "image/png": "[encoded data removed]",
      "text/plain": [
       "<matplotlib.figure.Figure at 0x7f9bec6c66d8>"
      ]
     },
     "metadata": {},
     "output_type": "display_data"
    }
   ],
   "source": [
    "sample = 1 # change this number to get a different sample\n",
    "plt.axis('off')\n",
    "plt.title('MNIST Sample')\n",
    "plt.imshow(np.reshape(mnist.train.images[sample],(28,28)), cmap='gray')"
   ]
  },
  {
   "cell_type": "code",
   "execution_count": 76,
   "metadata": {},
   "outputs": [],
   "source": [
    "def training(optimizer='gradient_descent'):\n",
    "    #placeholder for n images, 784 pixels\n",
    "    x = tf.placeholder(tf.float32, [None, 784])\n",
    "\n",
    "    #weightsmatrix, size so that x*w -> output[10,1]\n",
    "    W = tf.Variable(tf.ones([784, 10])*tf.distributions.Normal(loc=0.0,scale=0.000002).sample([784,10]))\n",
    "\n",
    "\n",
    "    #10 biases which we can add on x*w\n",
    "    b = tf.Variable(tf.zeros([10]))\n",
    "\n",
    "    #estimated by net\n",
    "    y_prime = tf.nn.softmax(tf.matmul(x,W)+b)\n",
    "\n",
    "\n",
    "    y_target = tf.placeholder(tf.float32, [None, 10])\n",
    "\n",
    "\n",
    "    cross_entropy = tf.reduce_mean(tf.nn.softmax_cross_entropy_with_logits(labels = y_target, logits = y_prime))\n",
    "\n",
    "\n",
    "    #Gradient Descent\n",
    "    if optimizer == 'gradient_descent':\n",
    "        train_step = tf.train.GradientDescentOptimizer(0.5).minimize(cross_entropy)\n",
    "    elif optimizer == 'adam':\n",
    "        train_step = tf.train.AdamOptimizer(learning_rate=0.01).minimize(cross_entropy)\n",
    "    else:\n",
    "        raise NotImplementedError('No other optimizers implemented.')\n",
    "\n",
    "\n",
    "\n",
    "    sess = tf.InteractiveSession()\n",
    "    tf.global_variables_initializer().run()\n",
    "\n",
    "    correct_prediction = tf.equal(tf.argmax(y_target,1), tf.argmax(y_prime,1))\n",
    "    accuracy = tf.reduce_mean(tf.cast(correct_prediction, tf.float32))\n",
    "\n",
    "    #Run 3 epochs and show all samples once per epoch\n",
    "    valid_accs = [] #validation accuracies\n",
    "    valid_ces = []  # validation cross-entropies\n",
    "    for epoch in range(3):\n",
    "        for i in range(1000):\n",
    "            batch_xs, batch_ys = mnist.train.next_batch(100)\n",
    "            sess.run(train_step, feed_dict={x: batch_xs, y_target: batch_ys})\n",
    "            if i % 100 == 0:\n",
    "                valid_accs.append(sess.run(accuracy, feed_dict={x: mnist.validation.images, y_target: mnist.validation.labels}))\n",
    "                valid_ces.append(sess.run(cross_entropy, feed_dict={x: mnist.validation.images, y_target: mnist.validation.labels}))\n",
    "\n",
    "    print('Accuracy on test set after three epochs of training with', optimizer, ':',\n",
    "          sess.run(accuracy, feed_dict={x: mnist.test.images, y_target: mnist.test.labels}))\n",
    "    return valid_accs, valid_ces"
   ]
  },
  {
   "cell_type": "code",
   "execution_count": 70,
   "metadata": {},
   "outputs": [
    {
     "name": "stdout",
     "output_type": "stream",
     "text": [
      "Accuracy on test set after three epochs of training with gradient_descent : 0.9173\n"
     ]
    }
   ],
   "source": [
    "valid_accs, valid_ces = training()"
   ]
  },
  {
   "cell_type": "code",
   "execution_count": 71,
   "metadata": {},
   "outputs": [
    {
     "data": {
      "text/plain": [
       "<matplotlib.text.Text at 0x7f9bdc0a0400>"
      ]
     },
     "execution_count": 71,
     "metadata": {},
     "output_type": "execute_result"
    },
    {
     "data": {
      "image/png": "[encoded data removed]",
      "text/plain": [
       "<matplotlib.figure.Figure at 0x7f9bdc0f3080>"
      ]
     },
     "metadata": {},
     "output_type": "display_data"
    }
   ],
   "source": [
    "plt.plot(range(len(valid_accs)), valid_accs)\n",
    "plt.title('Validation Accuracies')"
   ]
  },
  {
   "cell_type": "code",
   "execution_count": 72,
   "metadata": {},
   "outputs": [
    {
     "data": {
      "text/plain": [
       "<matplotlib.text.Text at 0x7f9bdc00bc18>"
      ]
     },
     "execution_count": 72,
     "metadata": {},
     "output_type": "execute_result"
    },
    {
     "data": {
      "image/png": "[encoded data removed]",
      "text/plain": [
       "<matplotlib.figure.Figure at 0x7f9bdc04df28>"
      ]
     },
     "metadata": {},
     "output_type": "display_data"
    }
   ],
   "source": [
    "plt.plot(range(len(valid_ces)), valid_ces)\n",
    "plt.title('Validation Cross-Entropies')"
   ]
  },
  {
   "cell_type": "code",
   "execution_count": 77,
   "metadata": {},
   "outputs": [
    {
     "name": "stdout",
     "output_type": "stream",
     "text": [
      "Accuracy on test set after three epochs of training with adam : 0.9289\n"
     ]
    }
   ],
   "source": [
    "### Now try Adam Optimizer instead\n",
    "\n",
    "valid_accs, valid_ces = training(optimizer='adam')"
   ]
  },
  {
   "cell_type": "code",
   "execution_count": 78,
   "metadata": {},
   "outputs": [
    {
     "data": {
      "text/plain": [
       "<matplotlib.text.Text at 0x7f9bdbce1a20>"
      ]
     },
     "execution_count": 78,
     "metadata": {},
     "output_type": "execute_result"
    },
    {
     "data": {
      "image/png": "[encoded data removed]",
      "text/plain": [
       "<matplotlib.figure.Figure at 0x7f9bdbf495c0>"
      ]
     },
     "metadata": {},
     "output_type": "display_data"
    }
   ],
   "source": [
    "plt.plot(range(len(valid_accs)), valid_accs)\n",
    "plt.title('Validation Accuracies')"
   ]
  },
  {
   "cell_type": "code",
   "execution_count": 79,
   "metadata": {},
   "outputs": [
    {
     "data": {
      "text/plain": [
       "<matplotlib.text.Text at 0x7f9bdbc4b6d8>"
      ]
     },
     "execution_count": 79,
     "metadata": {},
     "output_type": "execute_result"
    },
    {
     "data": {
      "image/png": "[encoded data removed]",
      "text/plain": [
       "<matplotlib.figure.Figure at 0x7f9bdbc93cc0>"
      ]
     },
     "metadata": {},
     "output_type": "display_data"
    }
   ],
   "source": [
    "plt.plot(range(len(valid_ces)), valid_ces)\n",
    "plt.title('Validation Cross-Entropies')"
   ]
  },
  {
   "cell_type": "markdown",
   "metadata": {},
   "source": [
    "With the Adam Optimizer the end result is slightly better than with normal gradient descent, but from the plots you can see that convergence is much faster."
   ]
  },
  {
   "cell_type": "code",
   "execution_count": null,
   "metadata": {
    "collapsed": true
   },
   "outputs": [],
   "source": []
  }
 ],
 "metadata": {
  "kernelspec": {
   "display_name": "Python 3",
   "language": "python",
   "name": "python3"
  },
  "language_info": {
   "codemirror_mode": {
    "name": "ipython",
    "version": 3
   },
   "file_extension": ".py",
   "mimetype": "text/x-python",
   "name": "python",
   "nbconvert_exporter": "python",
   "pygments_lexer": "ipython3",
   "version": "3.5.2"
  }
 },
 "nbformat": 4,
 "nbformat_minor": 2
}
